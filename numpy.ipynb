{
 "cells": [
  {
   "cell_type": "markdown",
   "id": "59aba51c",
   "metadata": {},
   "source": [
    "#### Creating vitual Enviromnt\n",
    "- Open Command Prompt\n",
    "- python -m venv venv\n",
    "- venv\\Scripts\\activate"
   ]
  },
  {
   "cell_type": "markdown",
   "id": "ba147dbb",
   "metadata": {},
   "source": [
    "# Phase 1\n",
    "   "
   ]
  },
  {
   "cell_type": "markdown",
   "id": "655e0cf3",
   "metadata": {},
   "source": [
    "#### Arrays in Python-\n",
    "   - [1,2,3,4,5]   also called vector\n",
    "#### 2D Array in Python-\n",
    "   - [\n",
    "    [1,2,3],\n",
    "    [4,5,6],\n",
    "    [7,8,9]\n",
    "   ]       also matrix\n"
   ]
  },
  {
   "cell_type": "code",
   "execution_count": 6,
   "id": "cd863af2",
   "metadata": {},
   "outputs": [],
   "source": [
    "import numpy as np   #Importing numpy"
   ]
  },
  {
   "cell_type": "markdown",
   "id": "221db7d1",
   "metadata": {},
   "source": [
    "### Creating array from list"
   ]
  },
  {
   "cell_type": "code",
   "execution_count": 7,
   "id": "3e4431a3",
   "metadata": {},
   "outputs": [
    {
     "name": "stdout",
     "output_type": "stream",
     "text": [
      "1D array is [1 2 3 4 5]\n",
      "2D Array is [[1 2 3 4]\n",
      " [5 6 7 8]]\n"
     ]
    }
   ],
   "source": [
    "array1d=np.array([1,2,3,4,5])  #Creating an 1D Array\n",
    "print(f\"1D array is {array1d}\")\n",
    "\n",
    "array2d=np.array([[1,2,3,4],[5,6,7,8]])   #Creating an 2d Array\n",
    "print(f\"2D Array is {array2d}\") "
   ]
  },
  {
   "cell_type": "markdown",
   "id": "585a9688",
   "metadata": {},
   "source": [
    "### List vs Numpy Array"
   ]
  },
  {
   "cell_type": "code",
   "execution_count": 8,
   "id": "f24dbeb4",
   "metadata": {},
   "outputs": [
    {
     "name": "stdout",
     "output_type": "stream",
     "text": [
      "Multiplication of List is [1, 2, 3, 4, 1, 2, 3, 4]\n",
      "Multiplication of Array is [2 4 6 8]\n"
     ]
    }
   ],
   "source": [
    "list1=[1,2,3,4]\n",
    "print(f\"Multiplication of List is {list1*2}\")\n",
    "\n",
    "array1=np.array([1,2,3,4])\n",
    "print(f\"Multiplication of Array is {array1*2}\")"
   ]
  },
  {
   "cell_type": "markdown",
   "id": "fb7bec5e",
   "metadata": {},
   "source": [
    "### Creating Array for scratch"
   ]
  },
  {
   "cell_type": "code",
   "execution_count": 9,
   "id": "7178abaa",
   "metadata": {},
   "outputs": [
    {
     "name": "stdout",
     "output_type": "stream",
     "text": [
      "Matrix of Zeros\n",
      "[[0. 0. 0. 0.]\n",
      " [0. 0. 0. 0.]\n",
      " [0. 0. 0. 0.]\n",
      " [0. 0. 0. 0.]]\n"
     ]
    }
   ],
   "source": [
    "zeros=np.zeros((4,4))   #Creates a matrix of 0s\n",
    "print(\"Matrix of Zeros\")\n",
    "print(zeros)"
   ]
  },
  {
   "cell_type": "code",
   "execution_count": null,
   "id": "cc57edef",
   "metadata": {},
   "outputs": [
    {
     "name": "stdout",
     "output_type": "stream",
     "text": [
      "Matrix of Znes\n",
      "[[1. 1. 1.]\n",
      " [1. 1. 1.]\n",
      " [1. 1. 1.]]\n"
     ]
    }
   ],
   "source": [
    "ones=np.ones((3,3))   #Creates a matrix of 1s\n",
    "print(\"Matrix of Ones\")\n",
    "print(ones)"
   ]
  },
  {
   "cell_type": "code",
   "execution_count": 11,
   "id": "93c97e1b",
   "metadata": {},
   "outputs": [
    {
     "name": "stdout",
     "output_type": "stream",
     "text": [
      "Matrix of Constant\n",
      "[[6 6]\n",
      " [6 6]]\n"
     ]
    }
   ],
   "source": [
    "full=np.full((2,2),6)  #Creates a matrix of a Constant\n",
    "print(\"Matrix of Constant\")\n",
    "print(full)"
   ]
  },
  {
   "cell_type": "code",
   "execution_count": 12,
   "id": "28b49e23",
   "metadata": {},
   "outputs": [
    {
     "name": "stdout",
     "output_type": "stream",
     "text": [
      "Matrix of Constant\n",
      "[[6 6]\n",
      " [6 6]]\n"
     ]
    }
   ],
   "source": [
    "full=np.full((2,2),6)  #Creates a matrix of a Constant\n",
    "print(\"Matrix of Constant\")\n",
    "print(full)"
   ]
  },
  {
   "cell_type": "code",
   "execution_count": 13,
   "id": "6c37cb1a",
   "metadata": {},
   "outputs": [
    {
     "name": "stdout",
     "output_type": "stream",
     "text": [
      "Matrix of random values\n",
      "[[7.09468806 8.10011126 4.01105124]\n",
      " [6.52787599 2.13736319 2.2131554 ]\n",
      " [8.48384492 1.66277425 4.13723216]]\n"
     ]
    }
   ],
   "source": [
    "randomMatrix=np.random.random((3,3))*10   #Creates an matrix of random values\n",
    "print(\"Matrix of random values\")\n",
    "print(randomMatrix)"
   ]
  },
  {
   "cell_type": "code",
   "execution_count": 14,
   "id": "a97ab82c",
   "metadata": {},
   "outputs": [
    {
     "name": "stdout",
     "output_type": "stream",
     "text": [
      "Array of aequence\n",
      "[ 1  4  7 10 13 16 19 22 25 28]\n"
     ]
    }
   ],
   "source": [
    "sequence=np.arange(1,30,3)  #Creates an array of series with gap of 3\n",
    "print(\"Array of aequence\")\n",
    "print(sequence)"
   ]
  },
  {
   "cell_type": "markdown",
   "id": "502d5b7a",
   "metadata": {},
   "source": [
    "### Vector,Matrix & Tensor"
   ]
  },
  {
   "cell_type": "code",
   "execution_count": 16,
   "id": "8ed87832",
   "metadata": {},
   "outputs": [
    {
     "name": "stdout",
     "output_type": "stream",
     "text": [
      "Vector is: [1 2 3 4 5]\n",
      "Matrix is: [[4 5 6]\n",
      " [1 2 3]]\n",
      "Tensor is: [[[2 4]\n",
      "  [8 9]]\n",
      "\n",
      " [[5 6]\n",
      "  [3 3]]]\n"
     ]
    }
   ],
   "source": [
    "vector=np.array([1,2,3,4,5])\n",
    "print(f\"Vector is: {vector}\")\n",
    "\n",
    "matrix=np.array([[4,5,6],[1,2,3]])\n",
    "print(f\"Matrix is: {matrix}\")\n",
    "\n",
    "tensor=np.array([[[2,4],[8,9]],[[5,6],[3,3]]])\n",
    "print(f\"Tensor is: {tensor}\")"
   ]
  },
  {
   "cell_type": "markdown",
   "id": "b4378736",
   "metadata": {},
   "source": [
    "### Array Properties"
   ]
  },
  {
   "cell_type": "code",
   "execution_count": 18,
   "id": "cc6fa441",
   "metadata": {},
   "outputs": [
    {
     "name": "stdout",
     "output_type": "stream",
     "text": [
      "Shape (2, 2, 2)\n",
      "Dimension 3\n",
      "Size 8\n",
      "Datatype int64\n"
     ]
    }
   ],
   "source": [
    "a=np.array([[[3,3],[2,2]],[[4,4],[7,7]]])\n",
    "print(f\"Shape {a.shape}\")\n",
    "print(f\"Dimension {a.ndim}\")\n",
    "print(f\"Size {a.size}\")\n",
    "print(f\"Datatype {a.dtype}\")"
   ]
  }
 ],
 "metadata": {
  "kernelspec": {
   "display_name": "venv",
   "language": "python",
   "name": "python3"
  },
  "language_info": {
   "codemirror_mode": {
    "name": "ipython",
    "version": 3
   },
   "file_extension": ".py",
   "mimetype": "text/x-python",
   "name": "python",
   "nbconvert_exporter": "python",
   "pygments_lexer": "ipython3",
   "version": "3.10.4"
  }
 },
 "nbformat": 4,
 "nbformat_minor": 5
}
