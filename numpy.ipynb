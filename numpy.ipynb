{
 "cells": [
  {
   "cell_type": "markdown",
   "id": "59aba51c",
   "metadata": {},
   "source": [
    "#### Creating vitual Enviromnt\n",
    "- Open Command Prompt\n",
    "- python -m venv venv\n",
    "- venv\\Scripts\\activate"
   ]
  },
  {
   "cell_type": "markdown",
   "id": "ba147dbb",
   "metadata": {},
   "source": [
    "# Phase 1\n",
    "   "
   ]
  },
  {
   "cell_type": "markdown",
   "id": "655e0cf3",
   "metadata": {},
   "source": [
    "#### Arrays in Python-\n",
    "   - [1,2,3,4,5]   also called vector\n",
    "#### 2D Array in Python-\n",
    "   - [\n",
    "    [1,2,3],\n",
    "    [4,5,6],\n",
    "    [7,8,9]\n",
    "   ]       also matrix\n"
   ]
  },
  {
   "cell_type": "code",
   "execution_count": 4,
   "id": "cd863af2",
   "metadata": {},
   "outputs": [],
   "source": [
    "import numpy as np"
   ]
  },
  {
   "cell_type": "markdown",
   "id": "221db7d1",
   "metadata": {},
   "source": [
    "### Creating array from list"
   ]
  },
  {
   "cell_type": "code",
   "execution_count": 6,
   "id": "3e4431a3",
   "metadata": {},
   "outputs": [
    {
     "name": "stdout",
     "output_type": "stream",
     "text": [
      "1D array is [1 2 3 4 5]\n",
      "2D Array is [[1 2 3 4]\n",
      " [5 6 7 8]]\n"
     ]
    }
   ],
   "source": [
    "array1d=np.array([1,2,3,4,5])\n",
    "print(f\"1D array is {array1d}\")\n",
    "\n",
    "array2d=np.array([[1,2,3,4],[5,6,7,8]])\n",
    "print(f\"2D Array is {array2d}\") "
   ]
  },
  {
   "cell_type": "markdown",
   "id": "585a9688",
   "metadata": {},
   "source": [
    "### List vs Numpy Array"
   ]
  },
  {
   "cell_type": "code",
   "execution_count": 7,
   "id": "f24dbeb4",
   "metadata": {},
   "outputs": [
    {
     "name": "stdout",
     "output_type": "stream",
     "text": [
      "Multiplication of List is [1, 2, 3, 4, 1, 2, 3, 4]\n"
     ]
    }
   ],
   "source": [
    "list1=[1,2,3,4]\n",
    "print(f\"Multiplication of List is {list1*2}\")"
   ]
  }
 ],
 "metadata": {
  "kernelspec": {
   "display_name": "venv",
   "language": "python",
   "name": "python3"
  },
  "language_info": {
   "codemirror_mode": {
    "name": "ipython",
    "version": 3
   },
   "file_extension": ".py",
   "mimetype": "text/x-python",
   "name": "python",
   "nbconvert_exporter": "python",
   "pygments_lexer": "ipython3",
   "version": "3.10.4"
  }
 },
 "nbformat": 4,
 "nbformat_minor": 5
}
